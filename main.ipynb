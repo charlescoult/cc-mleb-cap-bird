{
 "cells": [
  {
   "cell_type": "markdown",
   "id": "b251244c-3c35-4bd4-ae94-942c64a39d69",
   "metadata": {},
   "source": [
    "# Bird Sounds EDA\n",
    "1. Dynamically load bird sounds using the [xeno-canto api](https://xeno-canto.org/explore/api)\n",
    "   1. retrieve list of birds, if not cached"
   ]
  },
  {
   "cell_type": "code",
   "execution_count": 26,
   "id": "9396654d-2eb9-41c8-af06-42716d830596",
   "metadata": {},
   "outputs": [],
   "source": [
    "import xenocanto as xc\n",
    "import json"
   ]
  },
  {
   "cell_type": "code",
   "execution_count": null,
   "id": "72028e44-a7c0-4b2b-a30a-7dece4d63f15",
   "metadata": {},
   "outputs": [],
   "source": []
  }
 ],
 "metadata": {
  "kernelspec": {
   "display_name": "Python [conda env:.conda-cc-mleb-cap-bird] *",
   "language": "python",
   "name": "conda-env-.conda-cc-mleb-cap-bird-py"
  },
  "language_info": {
   "codemirror_mode": {
    "name": "ipython",
    "version": 3
   },
   "file_extension": ".py",
   "mimetype": "text/x-python",
   "name": "python",
   "nbconvert_exporter": "python",
   "pygments_lexer": "ipython3",
   "version": "3.10.6"
  }
 },
 "nbformat": 4,
 "nbformat_minor": 5
}
